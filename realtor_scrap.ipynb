{
 "cells": [
  {
   "cell_type": "code",
   "execution_count": 1,
   "metadata": {},
   "outputs": [],
   "source": [
    "# import libraries\n",
    "import requests\n",
    "import pandas as pd\n",
    "from time import sleep\n",
    "\n",
    "from selenium import webdriver\n",
    "from selenium.webdriver.firefox.service import Service\n",
    "from selenium.webdriver.common.by import By\n",
    "from selenium.webdriver.support.ui import WebDriverWait\n",
    "from selenium.webdriver.support import expected_conditions as EC\n",
    "\n",
    "import os\n",
    "import csv"
   ]
  },
  {
   "cell_type": "code",
   "execution_count": 2,
   "metadata": {},
   "outputs": [],
   "source": [
    "# assign the driver path\n",
    "driver_path = './geckodriver'"
   ]
  },
  {
   "cell_type": "code",
   "execution_count": 3,
   "metadata": {},
   "outputs": [],
   "source": [
    "options = webdriver.FirefoxOptions()\n",
    "options.add_argument('--headless')"
   ]
  },
  {
   "cell_type": "code",
   "execution_count": 4,
   "metadata": {},
   "outputs": [],
   "source": [
    "# create a driver object using driver_path as a parameter\n",
    "# show browser\n",
    "driver = webdriver.Firefox(service = Service(executable_path=driver_path))"
   ]
  },
  {
   "cell_type": "code",
   "execution_count": 5,
   "metadata": {},
   "outputs": [],
   "source": [
    "# assign your website to scrape\n",
    "web = 'https://www.realtor.ca/'\n",
    "\n",
    "driver.get(web)"
   ]
  },
  {
   "cell_type": "code",
   "execution_count": 6,
   "metadata": {},
   "outputs": [],
   "source": [
    "# wait for the page to avoid robo check\n",
    "driver.implicitly_wait(3)"
   ]
  },
  {
   "cell_type": "code",
   "execution_count": 7,
   "metadata": {},
   "outputs": [],
   "source": [
    "# assign any keyword for searching\n",
    "keyword = 'Algonquin College Ottawa'"
   ]
  },
  {
   "cell_type": "code",
   "execution_count": 8,
   "metadata": {},
   "outputs": [],
   "source": [
    "# wait for the page to avoid robo check\n",
    "driver.implicitly_wait(2)"
   ]
  },
  {
   "cell_type": "code",
   "execution_count": 9,
   "metadata": {},
   "outputs": [],
   "source": [
    "# create WebElement for a search box\n",
    "search_box = driver.find_element(By.ID, 'homeSearchTxt')"
   ]
  },
  {
   "cell_type": "code",
   "execution_count": 10,
   "metadata": {},
   "outputs": [],
   "source": [
    "# type the keyword in searchbox\n",
    "search_box.send_keys(keyword) "
   ]
  },
  {
   "cell_type": "code",
   "execution_count": 11,
   "metadata": {},
   "outputs": [],
   "source": [
    "# create WebElement for a search button \n",
    "search_button = driver.find_element(By.ID, 'homeSearchBtn')"
   ]
  },
  {
   "cell_type": "code",
   "execution_count": 12,
   "metadata": {},
   "outputs": [],
   "source": [
    "# wait for the page to avoid robo check\n",
    "driver.implicitly_wait(1)"
   ]
  },
  {
   "cell_type": "code",
   "execution_count": 13,
   "metadata": {},
   "outputs": [],
   "source": [
    "# click search_button\n",
    "search_button.click()"
   ]
  },
  {
   "cell_type": "code",
   "execution_count": 14,
   "metadata": {},
   "outputs": [],
   "source": [
    "# wait for the page to avoid robo check\n",
    "driver.implicitly_wait(5)"
   ]
  },
  {
   "cell_type": "code",
   "execution_count": 15,
   "metadata": {},
   "outputs": [],
   "source": [
    "# create empty lists for containing the data we'd like to scrape\n",
    "listing_name = []\n",
    "building_type = []\n",
    "rent_price = []\n",
    "bed_rooms = []\n",
    "bathrooms = []\n",
    "linsting_link = []\n",
    "listing_img_link = []\n",
    "results = []"
   ]
  },
  {
   "cell_type": "code",
   "execution_count": 16,
   "metadata": {},
   "outputs": [],
   "source": [
    "items = driver.find_elements(By.XPATH, '//div[contains(@class, \"s-result\")]')"
   ]
  },
  {
   "cell_type": "code",
   "execution_count": 17,
   "metadata": {},
   "outputs": [],
   "source": [
    "# wait for the page to avoid robo check\n",
    "driver.implicitly_wait(5)"
   ]
  },
  {
   "cell_type": "code",
   "execution_count": 18,
   "metadata": {},
   "outputs": [
    {
     "ename": "TimeoutException",
     "evalue": "Message: \n",
     "output_type": "error",
     "traceback": [
      "\u001b[1;31m---------------------------------------------------------------------------\u001b[0m",
      "\u001b[1;31mTimeoutException\u001b[0m                          Traceback (most recent call last)",
      "\u001b[1;32mc:\\Users\\straw\\Desktop\\realtor_ca_webscrap\\realtor_scrap.ipynb Cell 18\u001b[0m in \u001b[0;36m<cell line: 1>\u001b[1;34m()\u001b[0m\n\u001b[1;32m----> <a href='vscode-notebook-cell:/c%3A/Users/straw/Desktop/realtor_ca_webscrap/realtor_scrap.ipynb#X23sZmlsZQ%3D%3D?line=0'>1</a>\u001b[0m items \u001b[39m=\u001b[39m WebDriverWait(driver,\u001b[39m10\u001b[39;49m)\u001b[39m.\u001b[39;49muntil(EC\u001b[39m.\u001b[39;49mpresence_of_all_elements_located((By\u001b[39m.\u001b[39;49mXPATH, \u001b[39m'\u001b[39;49m\u001b[39m//div[contains(@class, \u001b[39;49m\u001b[39m\"\u001b[39;49m\u001b[39ms-result\u001b[39;49m\u001b[39m\"\u001b[39;49m\u001b[39m)]\u001b[39;49m\u001b[39m'\u001b[39;49m)))\n",
      "File \u001b[1;32mc:\\Users\\straw\\anaconda3\\lib\\site-packages\\selenium\\webdriver\\support\\wait.py:90\u001b[0m, in \u001b[0;36mWebDriverWait.until\u001b[1;34m(self, method, message)\u001b[0m\n\u001b[0;32m     88\u001b[0m     \u001b[39mif\u001b[39;00m time\u001b[39m.\u001b[39mmonotonic() \u001b[39m>\u001b[39m end_time:\n\u001b[0;32m     89\u001b[0m         \u001b[39mbreak\u001b[39;00m\n\u001b[1;32m---> 90\u001b[0m \u001b[39mraise\u001b[39;00m TimeoutException(message, screen, stacktrace)\n",
      "\u001b[1;31mTimeoutException\u001b[0m: Message: \n"
     ]
    }
   ],
   "source": [
    "items = WebDriverWait(driver,10).until(EC.presence_of_all_elements_located((By.XPATH, '//div[contains(@class, \"s-result\")]')))"
   ]
  },
  {
   "cell_type": "code",
   "execution_count": null,
   "metadata": {},
   "outputs": [],
   "source": [
    "# wait for the page to avoid robo check\n",
    "driver.implicitly_wait(1)"
   ]
  },
  {
   "cell_type": "code",
   "execution_count": null,
   "metadata": {},
   "outputs": [],
   "source": [
    "for item in items:\n",
    "    # find product name\n",
    "    name = item.find_element(By.XPATH, './/span[@class=\"a-size-base-plus a-color-base a-text-normal\"]')\n",
    "     listing_name.append(name.text)\n",
    "    \n",
    "    # find building type\n",
    "    building = item.get_attribute(\"building-type\")\n",
    "     building_type.append(building)\n",
    "    \n",
    "    \n",
    "    # find prices\n",
    "    whole_price = item.find_elements(By.XPATH, './/span[@class=\"a-price-whole\"]')\n",
    "    fraction_price = item.find_elements(By.XPATH, './/span[@class=\"a-price-fraction\"]')\n",
    "\n",
    "    if whole_price != [] and fraction_price != []:\n",
    "        price = '.'.join([whole_price[0].text, fraction_price[0].text])\n",
    "    else:\n",
    "        price = 0\n",
    "        \n",
    "     rent_price.append(price)\n",
    "\n",
    "    # find number of bedrooms\n",
    "    rooms = item.get_attribute(\"Beds\")\n",
    "     bed_rooms.append(rooms)    \n",
    "\n",
    "    # find number of bathrooms\n",
    "    baths = item.get_attribute(\"Baths\")\n",
    "     bathrooms.append(baths)    \n",
    "\n",
    "    # find the details link\n",
    "    link = item.find_element(By.XPATH, './/a[@class=\"a-link-normal s-underline-text s-underline-link-text s-link-style a-text-normal\"]').get_attribute(\"href\")\n",
    "     linsting_link.append(link)\n",
    "    \n",
    "    # find the product image link\n",
    "    img_link = item.find_element(By.XPATH, './/img[@class=\"s-image\"]').get_attribute('src')\n",
    "    listing_img_link.append(img_link)\n",
    "    \n",
    "    results.append((name.text, building, price, rooms, baths, link, img_link))"
   ]
  },
  {
   "cell_type": "code",
   "execution_count": null,
   "metadata": {},
   "outputs": [],
   "source": [
    "# quit the driver after finishing scraping \n",
    "driver.quit()"
   ]
  },
  {
   "cell_type": "code",
   "execution_count": null,
   "metadata": {},
   "outputs": [],
   "source": [
    "df = pd.DataFrame(results, columns=[\"listing_name\", \"building_type\", \"rent_price\", \"bed_rooms\", \"bathrooms\", \"linsting_link\", \"listing_img_link\"])\n",
    "print(df)"
   ]
  },
  {
   "cell_type": "code",
   "execution_count": null,
   "metadata": {},
   "outputs": [],
   "source": []
  }
 ],
 "metadata": {
  "kernelspec": {
   "display_name": "Python 3.9.12 ('base')",
   "language": "python",
   "name": "python3"
  },
  "language_info": {
   "codemirror_mode": {
    "name": "ipython",
    "version": 3
   },
   "file_extension": ".py",
   "mimetype": "text/x-python",
   "name": "python",
   "nbconvert_exporter": "python",
   "pygments_lexer": "ipython3",
   "version": "3.9.12"
  },
  "orig_nbformat": 4,
  "vscode": {
   "interpreter": {
    "hash": "273ab9b0da145a38c7414d8f129f246b1c6a78a8f12dc4d28f4e20b87a026655"
   }
  }
 },
 "nbformat": 4,
 "nbformat_minor": 2
}
